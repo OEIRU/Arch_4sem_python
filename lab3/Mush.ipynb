{
  "nbformat": 4,
  "nbformat_minor": 0,
  "metadata": {
    "colab": {
      "provenance": []
    },
    "kernelspec": {
      "name": "python3",
      "display_name": "Python 3"
    },
    "language_info": {
      "name": "python"
    }
  },
  "cells": [
    {
      "cell_type": "code",
      "execution_count": null,
      "metadata": {
        "id": "c23XA02hXxL7"
      },
      "outputs": [],
      "source": [
        "import matplotlib.pyplot as plt\n",
        "import numpy as np\n",
        "import pandas as pd\n",
        "from sklearn import datasets\n",
        "import seaborn as sns\n",
        "from sklearn.preprocessing import LabelEncoder\n",
        "import math\n",
        "\n",
        "df = pd.read_csv(\"C:/Users/garga/Desktop/Mush.csv\") # data is in the pandas data frame format\n",
        "df.keys()\n",
        "# Taking the feature columns in a list\n",
        "feat_cols = ['cap-shape', 'cap-surface', 'cap-color', 'bruises', 'odor',\n",
        "      'gill-attachment', 'gill-spacing', 'gill-size', 'gill-color',\n",
        "       'stalk-shape', 'stalk-root', 'stalk-surface-above-ring',\n",
        "       'stalk-surface-below-ring', 'stalk-color-above-ring',\n",
        "       'stalk-color-below-ring', 'veil-color', 'ring-number', 'ring-type',\n",
        "       'spore-print-color', 'population', 'habitat']\n",
        "label_encoder = LabelEncoder()\n",
        "\n",
        "df = df.apply(label_encoder.fit_transform)\n",
        "\n",
        "X = df[feat_cols]\n",
        "Y = df['class']"
      ]
    },
    {
      "cell_type": "code",
      "source": [
        "# E vs P\n",
        "plt.rcParams['figure.figsize']=15,5\n",
        "ax = plt.subplot(122)\n",
        "mush_classpie = df['class'].value_counts()\n",
        "mush_size = mush_classpie.values.tolist()\n",
        "mush_types = mush_classpie.axes[0].tolist()\n",
        "mush_labels = 'Edible', 'Poisonous'\n",
        "colors = ['#EAFFD0', '#F38181']\n",
        "plt.title('Mushroom Class Type Percentange', fontsize=10)\n",
        "patches, texts, autotexts = plt.pie(mush_size, labels=mush_labels, colors=colors,\n",
        "        autopct='%1.1f%%', shadow=True, startangle=150)\n",
        "for text,autotext in zip(texts,autotexts):\n",
        "    text.set_fontsize(14)\n",
        "    autotext.set_fontsize(14)\n",
        "\n",
        "plt.axis('equal')  \n",
        "plt.show()"
      ],
      "metadata": {
        "id": "eNC__QfkXzI3"
      },
      "execution_count": null,
      "outputs": []
    },
    {
      "cell_type": "code",
      "source": [
        "#Числа на столбиках - количество подходящих условию грибов\n",
        "def label(bars,fontsize=9):\n",
        "    for bar in bars:\n",
        "        height = bar.get_height()\n",
        "        ax.text(bar.get_x() + bar.get_width()/2., 1*height,'%d' % int(height),\n",
        "                ha='center', va='bottom',fontsize=fontsize)"
      ],
      "metadata": {
        "id": "pF3LL9g5X3xk"
      },
      "execution_count": null,
      "outputs": []
    },
    {
      "cell_type": "code",
      "source": [
        "#Цвет шляпки и количество грибов\n",
        "plt.rcParams['figure.figsize']=20,5\n",
        "cap_colors = df['cap-color'].value_counts()\n",
        "m_height = cap_colors.values.tolist()\n",
        "#Row labels\n",
        "cap_colors.axes\n",
        "m_height = cap_colors.values.tolist()\n",
        "#Row labels\n",
        "cap_colors.axes\n",
        "#Converts index to list\n",
        "cap_color_labels = cap_colors.axes[0].tolist()\n",
        "#the x locations for the groups\n",
        "ind = np.arange(10)\n",
        "\n",
        "\n",
        "ax = plt.subplot(122)\n",
        "poisonous_cc = [] #Poisonous color cap list\n",
        "edible_cc = []    #Edible color cap list\n",
        "\n",
        "for capColor in cap_color_labels:\n",
        "    size = len(df[df['cap-color'] == capColor].index)\n",
        "    edibles = len(df[(df['cap-color'] == capColor) & (df['class'] == 0)].index)\n",
        "    edible_cc.append(edibles)\n",
        "    poisonous_cc.append(size-edibles)\n",
        "                        \n",
        "width = 0.4\n",
        "# fig, ax = plt.subplots(figsize=(7,4))\n",
        "edible_bars = ax.bar(ind, edible_cc , width, color='#EAFFD0')\n",
        "poison_bars = ax.bar(ind+width, poisonous_cc , width, color='#F38181')\n",
        "\n",
        "#Надписи\n",
        "ax.set_xlabel('---Cap Color---',fontsize=10)\n",
        "ax.set_ylabel('---Quantity---',fontsize=10)\n",
        "ax.set_title('Mushrooms Cap Color & Class',fontsize=12)\n",
        "ax.set_xticks(ind + width / 2) #Positioning on the x axis\n",
        "#ax.set_xticklabels(('Brown', 'Gray','Red','Yellow','White','Buff','Pink','Cinnamon','Purple','Green'), fontsize = 10, rotation=45)\n",
        "ax.legend((edible_bars,poison_bars),('Edible','Poisonous'),fontsize=10)\n",
        "label(edible_bars, 10)\n",
        "label(poison_bars, 10)\n",
        "plt.show()"
      ],
      "metadata": {
        "id": "CTqbGHZhX9Mb"
      },
      "execution_count": null,
      "outputs": []
    },
    {
      "cell_type": "code",
      "source": [
        "# Два других шляпковых параметра\n",
        "f, axes = plt.subplots(2,1, figsize=(20,5), sharey = True) \n",
        "num_col = ['cap-surface','cap-shape']\n",
        "for i,col in enumerate(num_col):\n",
        "    axes[i] = plt.subplot(1,2,i+1)\n",
        "    s = sns.countplot(x=col, data = df, hue='class', alpha=0.7)\n",
        "    s.legend(loc=\"upper right\", prop={'size': 10})\n",
        "    for p in s.patches:\n",
        "        s.annotate(format(p.get_height(), '.0f'), \n",
        "        (p.get_x() + p.get_width() / 2., p.get_height()), \n",
        "        ha = 'center', va = 'center', \n",
        "        xytext = (0, 5), \n",
        "        textcoords = 'offset points')\n",
        "\n",
        "plt.show()"
      ],
      "metadata": {
        "id": "ypAO2Im_X_Qx"
      },
      "execution_count": null,
      "outputs": []
    },
    {
      "cell_type": "code",
      "source": [
        "# Gill-параметры\n",
        "f, axes = plt.subplots(4,1, figsize=(20,15), sharey = True) \n",
        "num_col = ['gill-attachment', 'gill-spacing', 'gill-size', 'gill-color']\n",
        "for i,col in enumerate(num_col):\n",
        "    plt.subplot(2,2,i+1)\n",
        "    plt.xticks(rotation=45)\n",
        "    s = sns.countplot(x=col, data = df, hue='class', palette=\"pastel\")\n",
        "    for p in s.patches:\n",
        "        s.annotate(format(p.get_height(), '.0f'), \n",
        "        (p.get_x() + p.get_width() / 2., p.get_height()), \n",
        "        ha = 'center', va = 'center', \n",
        "        xytext = (0, 5), fontsize=8.5,\n",
        "        textcoords = 'offset points')\n",
        "\n",
        "plt.show()"
      ],
      "metadata": {
        "id": "RVrr-aKQYDP4"
      },
      "execution_count": null,
      "outputs": []
    },
    {
      "cell_type": "code",
      "source": [
        "# Stalk-параметры\n",
        "\n",
        "f, axes = plt.subplots(4,1, figsize=(17,12), sharey = True) \n",
        "num_col = ['stalk-shape', 'stalk-root', 'stalk-surface-above-ring', 'stalk-surface-below-ring']\n",
        "\n",
        "for j,col in enumerate(num_col):\n",
        "    cols = df[col].value_counts()\n",
        "    pop_size = cols.values.tolist()\n",
        "    pop_types = cols.axes[0].tolist()\n",
        "    poisonous_pop = [] #Poisonous population type list\n",
        "    edible_pop = []    #Edible population type list\n",
        "    for pop in pop_types: \n",
        "        size = len(df[df[col] == pop].index)\n",
        "        edibles = len(df[(df[col] == pop) & (df['class'] == 0)].index)\n",
        "        edible_pop.append(edibles)\n",
        "        poisonous_pop.append(size-edibles)\n",
        "        combine_ed_poi = []\n",
        "    for i in range(0,len(edible_pop)):\n",
        "        combine_ed_poi.append(edible_pop[i])\n",
        "        combine_ed_poi.append(poisonous_pop[i])\n",
        "    #Двойная пироговая диаграмма\n",
        "    plt.subplot(2,2,j+1)\n",
        "    plt.title(col)\n",
        "    #Внутренность\n",
        "    patches1, texts1 = plt.pie(combine_ed_poi,radius = 4.5,labels= combine_ed_poi,\n",
        "                                    colors=['#C4F6F5','#F6EEC4'], shadow=True, labeldistance= 1.1)\n",
        "    for i in range(0,len(texts1)):\n",
        "        if(i%2==0):\n",
        "            texts1[i].set_color('blue')\n",
        "        else:\n",
        "            texts1[i].set_color('red')\n",
        "    for aut in texts1:\n",
        "        aut.set_fontsize(9)\n",
        "    #Окружность\n",
        "    patches2, texts2, autotexts2 = plt.pie(pop_size, radius = 3.5,\n",
        "            autopct='%1.2f%%', shadow=True, labeldistance= 4.2)\n",
        "    for aut in autotexts2:\n",
        "        aut.set_fontsize(10)\n",
        "        aut.set_horizontalalignment('center')\n",
        "     #Две легенды пироговые\n",
        "    first_legend   = plt.legend(patches1, ['Edible','Poisonous'], loc=\"upper left\", fontsize=10)\n",
        "    second_ledgend = plt.legend(patches2, pop_types, loc=\"best\",fontsize=8)\n",
        "    plt.gca().add_artist(first_legend)\n",
        "    plt.axis('equal')\n",
        "plt.show()"
      ],
      "metadata": {
        "id": "tU1S_GI7YGzm"
      },
      "execution_count": null,
      "outputs": []
    },
    {
      "cell_type": "code",
      "source": [
        "#Veil-параметры\n",
        "\n",
        "f, axes = plt.subplots(3,1, figsize=(20,5), sharey = True) \n",
        "num_col = ['veil-color', 'ring-number', 'ring-type']\n",
        "for i,col in enumerate(num_col):\n",
        "    axes[i] = plt.subplot(1,3,i+1)\n",
        "    s = sns.countplot(x=col, data = df, hue='class', alpha=0.7, palette='Set1')\n",
        "    s.legend(loc=\"upper right\", prop={'size': 10})\n",
        "    plt.xticks(rotation=45)\n",
        "    for p in s.patches:\n",
        "        s.annotate(format(p.get_height(), '.0f'), \n",
        "        (p.get_x() + p.get_width() / 2., p.get_height()), \n",
        "        ha = 'center', va = 'center', \n",
        "        xytext = (0, 5), \n",
        "        textcoords = 'offset points')\n",
        "\n",
        "plt.show()"
      ],
      "metadata": {
        "id": "wYDi7-BeYJkH"
      },
      "execution_count": null,
      "outputs": []
    },
    {
      "cell_type": "code",
      "source": [
        "#'bruises', 'population', 'habitat'\n",
        "f, axes = plt.subplots(3,1, figsize=(20,12), sharey = True) \n",
        "num_col = ['bruises', 'population', 'habitat']\n",
        "\n",
        "for j,col in enumerate(num_col):\n",
        "    cols = df[col].value_counts()\n",
        "    pop_size = cols.values.tolist()\n",
        "    pop_types = cols.axes[0].tolist()\n",
        "    poisonous_pop = [] #Poisonous population type list\n",
        "    edible_pop = []    #Edible population type list\n",
        "    for pop in pop_types: \n",
        "        size = len(df[df[col] == pop].index)\n",
        "        edibles = len(df[(df[col] == pop) & (df['class'] == 0)].index)\n",
        "        edible_pop.append(edibles)\n",
        "        poisonous_pop.append(size-edibles)\n",
        "    combine_ed_poi = []\n",
        "    for i in range(0,len(edible_pop)):\n",
        "        combine_ed_poi.append(edible_pop[i])\n",
        "        combine_ed_poi.append(poisonous_pop[i])\n",
        "\n",
        "    #Двойная пироговая диаграмма опять\n",
        "    plt.subplot(2,2,j+1)\n",
        "    plt.title(col)\n",
        "    #Кольцо\n",
        "    patches1, texts1 = plt.pie(combine_ed_poi,radius = 4.5,labels= combine_ed_poi,\n",
        "                                    colors=['#C4F6F5','#F6EEC4'], shadow=True, labeldistance= 1.1)\n",
        "    for i in range(0,len(texts1)):\n",
        "        if(i%2==0):\n",
        "            texts1[i].set_color('blue')\n",
        "        else:\n",
        "            texts1[i].set_color('red')\n",
        "    for aut in texts1:\n",
        "        aut.set_fontsize(9)\n",
        "    #Внутренность\n",
        "    patches2, texts2, autotexts2 = plt.pie(pop_size, radius = 3.5,\n",
        "            autopct='%1.2f%%', shadow=True, labeldistance= 4.2)\n",
        "    for aut in autotexts2:\n",
        "        aut.set_fontsize(10)\n",
        "        aut.set_horizontalalignment('center')\n",
        "    #Снова 2 легенды для пирогов\n",
        "    first_legend   = plt.legend(patches1, ['Edible','Poisonous'], loc=\"upper left\", fontsize=10)\n",
        "    second_ledgend = plt.legend(patches2, pop_types, loc=\"best\",fontsize=8)\n",
        "    plt.gca().add_artist(first_legend)\n",
        "    plt.axis('equal')\n",
        "plt.show()\n"
      ],
      "metadata": {
        "id": "kgWRrfQ9YNFa"
      },
      "execution_count": null,
      "outputs": []
    },
    {
      "cell_type": "code",
      "source": [
        "# 'odor', 'spore-print-color' штуки\n",
        "f, axes = plt.subplots(2,1, figsize=(20,5), sharey = True) \n",
        "num_col = ['odor', 'spore-print-color']\n",
        "for i,col in enumerate(num_col):\n",
        "    axes[i] = plt.subplot(1,2,i+1)\n",
        "    s = sns.countplot(x=col, data = df, hue='class', alpha=0.7, palette='hot')\n",
        "    s.legend(loc=\"upper right\", prop={'size': 10})\n",
        "    plt.xticks(rotation=45)\n",
        "    for p in s.patches:\n",
        "        s.annotate(format(p.get_height(), '.0f'), \n",
        "        (p.get_x() + p.get_width() / 2., p.get_height()), \n",
        "        ha = 'center', va = 'center', \n",
        "        xytext = (0, 5), \n",
        "        textcoords = 'offset points')\n",
        "\n",
        "plt.show()"
      ],
      "metadata": {
        "id": "i0LrqAsUYO_g"
      },
      "execution_count": null,
      "outputs": []
    }
  ]
}