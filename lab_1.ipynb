{
 "cells": [
  {
   "cell_type": "code",
   "execution_count": 9,
   "id": "cdf34fe9",
   "metadata": {},
   "outputs": [
    {
     "name": "stdout",
     "output_type": "stream",
     "text": [
      "['Den', 'letzten', 'Weg']\n"
     ]
    }
   ],
   "source": [
    "x = list(\"Den letzten Weg musst du alleine gehn\")\n",
    "y = [\"Den\", \"letzten\", \"Weg\"]\n",
    "print(y) # способы задания списков"
   ]
  },
  {
   "cell_type": "code",
   "execution_count": 11,
   "id": "3aa67bf4",
   "metadata": {},
   "outputs": [
    {
     "name": "stdout",
     "output_type": "stream",
     "text": [
      "['D', 'e', 'n', ' ', 'l']\n",
      "['n', 'e', ' ', 'g', 'e', 'h', 'n']\n",
      "['n', 'h', 'e', 'g', ' ', 'e', 'n', 'i', 'e', 'l', 'l', 'a', ' ', 'u', 'd', ' ', 't', 's', 's', 'u', 'm', ' ', 'g', 'e', 'W', ' ', 'n', 'e', 't', 'z', 't', 'e', 'l', ' ', 'n', 'e', 'D']\n"
     ]
    }
   ],
   "source": [
    "print(x[:5]) # срезы\n",
    "print(x[30:])\n",
    "print(x[::-1])"
   ]
  },
  {
   "cell_type": "code",
   "execution_count": 12,
   "id": "95e23a65",
   "metadata": {},
   "outputs": [
    {
     "name": "stdout",
     "output_type": "stream",
     "text": [
      "D;e;n; ;l;e;t;z;t;e;n; ;W;e;g; ;m;u;s;s;t; ;d;u; ;a;l;l;e;i;n;e; ;g;e;h;n \n",
      "\n"
     ]
    }
   ],
   "source": [
    "print(';'.join(x), '\\n') # вывод в строку"
   ]
  },
  {
   "cell_type": "code",
   "execution_count": 17,
   "id": "b211965e",
   "metadata": {},
   "outputs": [
    {
     "data": {
      "text/plain": [
       "[('a', 1, 10), ('b', 2, 20), ('c', 3, 30)]"
      ]
     },
     "execution_count": 17,
     "metadata": {},
     "output_type": "execute_result"
    }
   ],
   "source": [
    "a = \"abc\" # функция zip \n",
    "b = (1, 2, 3)\n",
    "c = (10, 20, 30)\n",
    "list(zip(a,b,c))"
   ]
  },
  {
   "cell_type": "code",
   "execution_count": 21,
   "id": "9a71ae86",
   "metadata": {
    "scrolled": false
   },
   "outputs": [
    {
     "name": "stdout",
     "output_type": "stream",
     "text": [
      "[1, 2, 3, 4, 5, 6, 7, 8, 9, 10, 11, 12, 13, 14]\n",
      "[441, 484, 529, 576, 625, 676, 729, 784, 841, 900, 961, 1024, 1089, 1156, 1225, 1296, 1369, 1444, 1521]\n"
     ]
    }
   ],
   "source": [
    "a = [i for i in range(1,15)] # перебор\n",
    "e = [(lambda x: x ** 2)(i) for i in range(100) if i > 20 and i < 40]\n",
    "print(a)\n",
    "print(e)"
   ]
  },
  {
   "cell_type": "code",
   "execution_count": 15,
   "id": "73ae5c92",
   "metadata": {},
   "outputs": [
    {
     "name": "stdout",
     "output_type": "stream",
     "text": [
      "hello : 1\n"
     ]
    }
   ],
   "source": [
    "# Задание 2\n",
    "file = open(\"input.txt\", \"r\", encoding='UTF8')\n",
    "d = dict() \n",
    "for line in file: \n",
    "    line = line.strip() \n",
    "    line = line.lower() \n",
    "    words = line.split(\" \") \n",
    "    for word in words: \n",
    "     if word in d: \n",
    "         d[word] = d[word] + 1 \n",
    "    else: \n",
    "     d[word] = 1 \n",
    "for key in list(d.keys()): \n",
    "    print(key, \":\", d[key])"
   ]
  },
  {
   "cell_type": "code",
   "execution_count": 13,
   "id": "06402f1c",
   "metadata": {},
   "outputs": [
    {
     "name": "stdout",
     "output_type": "stream",
     "text": [
      "15\n",
      "15\n"
     ]
    }
   ],
   "source": [
    "# задание 3\n",
    "triple = lambda x: x * 3\n",
    "def triple_func(x):\n",
    "    return x * 3\n",
    "\n",
    "print(triple(5))\n",
    "print(triple_func(5))"
   ]
  },
  {
   "cell_type": "code",
   "execution_count": 25,
   "id": "3ba4793c",
   "metadata": {
    "scrolled": true
   },
   "outputs": [
    {
     "name": "stdout",
     "output_type": "stream",
     "text": [
      "('A', 'B')\n",
      "('A', 'C')\n",
      "('A', 'D')\n",
      "('B', 'C')\n",
      "('B', 'D')\n",
      "('C', 'D')\n"
     ]
    }
   ],
   "source": [
    "#задание 4\n",
    "#функция, которая выдаёт на консоль все сочетания для m и n\n",
    "заданных m и n.\n",
    "import itertools\n",
    "n = 'ABCD'\n",
    "m = 2\n",
    "for item in itertools.combinations(n, m):\n",
    "    print(item)"
   ]
  },
  {
   "cell_type": "code",
   "execution_count": 50,
   "id": "df8e2fd7",
   "metadata": {},
   "outputs": [
    {
     "name": "stdout",
     "output_type": "stream",
     "text": [
      "1\n",
      "Key Not Found in Employee Dictionary: 'Example'\n"
     ]
    }
   ],
   "source": [
    "emp_dict = {'Name': 'Ivan', 'ID': 1, 'Num': 15} \n",
    "try: \n",
    "    emp_id = emp_dict['ID'] \n",
    "    print(emp_id) \n",
    "    emp_role = emp_dict['Example'] \n",
    "    print(emp_role) \n",
    "except KeyError as ke: \n",
    "    print('Key Not Found in Employee Dictionary:', ke)"
   ]
  },
  {
   "cell_type": "code",
   "execution_count": 37,
   "id": "0d7eafa3",
   "metadata": {},
   "outputs": [
    {
     "name": "stdout",
     "output_type": "stream",
     "text": [
      "[1, 1, 2, 3, 5, 8, 13]\n"
     ]
    }
   ],
   "source": [
    "def fib(): # Числа Фибоначи.\n",
    "  a,b = 1,1\n",
    "  while True:\n",
    "    yield a\n",
    "    a,b = b,a+b\n",
    "\n",
    "import itertools\n",
    "\n",
    "print(list(itertools.islice(fib(), 7)))       "
   ]
  },
  {
   "cell_type": "code",
   "execution_count": 57,
   "id": "a4b600be",
   "metadata": {},
   "outputs": [],
   "source": [
    "from tkinter import *\n",
    "from numpy import *\n",
    "from matplotlib.figure import Figure\n",
    "from matplotlib.backends.backend_tkagg import FigureCanvasTkAgg\n",
    "from tkinter.messagebox import showerror\n",
    "import warnings\n",
    "\n",
    "\n",
    "def evaluate(event):\n",
    "    try:\n",
    "        mystr = entry.get()\n",
    "        exec('f = lambda x:' + mystr, globals())\n",
    "        a = float(strA.get())\n",
    "        b = float(strB.get())\n",
    "        X = linspace(a, b, 300)\n",
    "        Y = [f(x) for x in X]\n",
    "        ax.clear()  # очистить графическую область\n",
    "        ax.plot(X, Y, linewidth=2)\n",
    "        ax.grid(color='b', alpha=0.5, linestyle='dashed', linewidth=0.5)\n",
    "        canvasAgg.draw()  # перерисовать «составной» холст\n",
    "        return\n",
    "    except:  # реакция на любую ошибку\n",
    "        showerror('Ошибка', \"Неверное выражение или интервал [a,b].\")\n",
    "\n",
    "\n",
    "def evaluate2(event):  # чтобы кнопка отжималась при ошибке\n",
    "    root.after(100, evaluate, event)\n",
    "\n",
    "\n",
    "root = Tk()\n",
    "root.wm_title(\"График функции\")\n",
    "warnings.filterwarnings(\"error\")\n",
    "frameUp = Frame(root, relief=SUNKEN, height=64)\n",
    "frameUp.pack(side=TOP, fill=X)\n",
    "Label(frameUp, text=\"Выражение: \").place(x=20, y=4, width=100, height=25)\n",
    "Label(frameUp, text=\"Начало интервала a:\").place(x=250, y=4, width=140, height=25)\n",
    "Label(frameUp, text=\"Конец интервала b:\").place(x=370, y=4, width=140, height=25)\n",
    "entry = Entry(frameUp, relief=RIDGE, borderwidth=4)\n",
    "entry.bind(\"<Return>\", evaluate)\n",
    "entry.place(x=6, y=30, width=250, height=25)\n",
    "strA = StringVar()\n",
    "strA.set(0)\n",
    "entryA = Entry(frameUp, relief=RIDGE, borderwidth=4, textvariable=strA)\n",
    "entryA.place(x=280, y=30, width=80, height=25)\n",
    "entryA.bind(\"<Return>\", evaluate)\n",
    "strB = StringVar()\n",
    "strB.set(1)\n",
    "entryB = Entry(frameUp, relief=RIDGE, borderwidth=4, textvariable=strB)\n",
    "entryB.place(x=400, y=30, width=80, height=25)\n",
    "entryB.bind(\"<Return>\", evaluate)\n",
    "fig = Figure(figsize=(5, 4), dpi=100, facecolor='white')\n",
    "ax = fig.add_subplot(111)\n",
    "canvasAgg = FigureCanvasTkAgg(fig, master=root)\n",
    "canvasAgg.draw()\n",
    "canvas = canvasAgg.get_tk_widget()\n",
    "canvas.pack(fill=BOTH, expand=1)\n",
    "btn = Button(root, text='График')\n",
    "btn.bind(\"<Button-1>\", evaluate2)\n",
    "btn.pack(ipady=2, pady=4, padx=10)\n",
    "root.bind('<Control-z>', lambda event: root.destroy())\n",
    "root.mainloop()\n"
   ]
  },
  {
   "cell_type": "code",
   "execution_count": null,
   "id": "36187062",
   "metadata": {},
   "outputs": [],
   "source": []
  },
  {
   "cell_type": "code",
   "execution_count": null,
   "id": "3e3c46d5",
   "metadata": {},
   "outputs": [],
   "source": []
  }
 ],
 "metadata": {
  "kernelspec": {
   "display_name": "Python 3 (ipykernel)",
   "language": "python",
   "name": "python3"
  },
  "language_info": {
   "codemirror_mode": {
    "name": "ipython",
    "version": 3
   },
   "file_extension": ".py",
   "mimetype": "text/x-python",
   "name": "python",
   "nbconvert_exporter": "python",
   "pygments_lexer": "ipython3",
   "version": "3.9.13"
  }
 },
 "nbformat": 4,
 "nbformat_minor": 5
}
